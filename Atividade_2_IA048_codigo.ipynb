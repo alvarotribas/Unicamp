{
  "cells": [
    {
      "cell_type": "markdown",
      "metadata": {},
      "source": [
        "# Atividade 02 - Classificação linear e kNN\n",
        "\n",
        "## Aprendizado de Máquina - IA048\n",
        "\n",
        "Álvaro Tona Ribas Cruz - 239520\n",
        "\n",
        "Antonio César de Andrade Júnior - 245628 "
      ]
    },
    {
      "cell_type": "markdown",
      "metadata": {},
      "source": [
        "## 0 - Imports"
      ]
    },
    {
      "cell_type": "code",
      "execution_count": null,
      "metadata": {
        "id": "up0Z-joE6tak"
      },
      "outputs": [],
      "source": [
        "import logging\n",
        "import pandas as pd\n",
        "from sklearn.linear_model import LogisticRegression\n",
        "from sklearn.metrics import confusion_matrix\n",
        "import numpy as np\n",
        "import matplotlib.pyplot as plt\n",
        "from sklearn import metrics\n",
        "from sklearn.metrics import roc_curve, roc_auc_score\n",
        "import seaborn as sns\n",
        "from sklearn.metrics import precision_score, recall_score, f1_score, accuracy_score, balanced_accuracy_score\n",
        "from sklearn.linear_model import SGDClassifier\n",
        "from sklearn.model_selection import cross_val_score\n",
        "from sklearn.neighbors import KNeighborsClassifier\n",
        "from sklearn.model_selection import KFold\n",
        "from sklearn.multiclass import OneVsOneClassifier"
      ]
    },
    {
      "cell_type": "markdown",
      "metadata": {},
      "source": [
        "## 1- Dataset tratado"
      ]
    },
    {
      "cell_type": "code",
      "execution_count": null,
      "metadata": {
        "id": "CsjplwxfFUMh"
      },
      "outputs": [],
      "source": [
        "logging.basicConfig(level=logging.currentframe)"
      ]
    },
    {
      "cell_type": "code",
      "execution_count": null,
      "metadata": {
        "colab": {
          "base_uri": "https://localhost:8080/",
          "height": 444
        },
        "id": "aVUVyy3v746Z",
        "outputId": "0cc48174-c2e3-4766-c8cf-aa1d8c8aefb5"
      },
      "outputs": [
        {
          "data": {
            "application/vnd.google.colaboratory.intrinsic+json": {
              "type": "dataframe",
              "variable_name": "train_x"
            },
            "text/html": [
              "\n",
              "  <div id=\"df-8658d2f7-6dd3-4329-97c2-60d2cf175727\" class=\"colab-df-container\">\n",
              "    <div>\n",
              "<style scoped>\n",
              "    .dataframe tbody tr th:only-of-type {\n",
              "        vertical-align: middle;\n",
              "    }\n",
              "\n",
              "    .dataframe tbody tr th {\n",
              "        vertical-align: top;\n",
              "    }\n",
              "\n",
              "    .dataframe thead th {\n",
              "        text-align: right;\n",
              "    }\n",
              "</style>\n",
              "<table border=\"1\" class=\"dataframe\">\n",
              "  <thead>\n",
              "    <tr style=\"text-align: right;\">\n",
              "      <th></th>\n",
              "      <th>0</th>\n",
              "      <th>1</th>\n",
              "      <th>2</th>\n",
              "      <th>3</th>\n",
              "      <th>4</th>\n",
              "      <th>5</th>\n",
              "      <th>6</th>\n",
              "      <th>7</th>\n",
              "      <th>8</th>\n",
              "      <th>9</th>\n",
              "      <th>...</th>\n",
              "      <th>551</th>\n",
              "      <th>552</th>\n",
              "      <th>553</th>\n",
              "      <th>554</th>\n",
              "      <th>555</th>\n",
              "      <th>556</th>\n",
              "      <th>557</th>\n",
              "      <th>558</th>\n",
              "      <th>559</th>\n",
              "      <th>560</th>\n",
              "    </tr>\n",
              "  </thead>\n",
              "  <tbody>\n",
              "    <tr>\n",
              "      <th>0</th>\n",
              "      <td>0.288585</td>\n",
              "      <td>-0.020294</td>\n",
              "      <td>-0.132905</td>\n",
              "      <td>-0.995279</td>\n",
              "      <td>-0.983111</td>\n",
              "      <td>-0.913526</td>\n",
              "      <td>-0.995112</td>\n",
              "      <td>-0.983185</td>\n",
              "      <td>-0.923527</td>\n",
              "      <td>-0.934724</td>\n",
              "      <td>...</td>\n",
              "      <td>-0.074323</td>\n",
              "      <td>-0.298676</td>\n",
              "      <td>-0.710304</td>\n",
              "      <td>-0.112754</td>\n",
              "      <td>0.030400</td>\n",
              "      <td>-0.464761</td>\n",
              "      <td>-0.018446</td>\n",
              "      <td>-0.841247</td>\n",
              "      <td>0.179941</td>\n",
              "      <td>-0.058627</td>\n",
              "    </tr>\n",
              "    <tr>\n",
              "      <th>1</th>\n",
              "      <td>0.278419</td>\n",
              "      <td>-0.016411</td>\n",
              "      <td>-0.123520</td>\n",
              "      <td>-0.998245</td>\n",
              "      <td>-0.975300</td>\n",
              "      <td>-0.960322</td>\n",
              "      <td>-0.998807</td>\n",
              "      <td>-0.974914</td>\n",
              "      <td>-0.957686</td>\n",
              "      <td>-0.943068</td>\n",
              "      <td>...</td>\n",
              "      <td>0.158075</td>\n",
              "      <td>-0.595051</td>\n",
              "      <td>-0.861499</td>\n",
              "      <td>0.053477</td>\n",
              "      <td>-0.007435</td>\n",
              "      <td>-0.732626</td>\n",
              "      <td>0.703511</td>\n",
              "      <td>-0.844788</td>\n",
              "      <td>0.180289</td>\n",
              "      <td>-0.054317</td>\n",
              "    </tr>\n",
              "    <tr>\n",
              "      <th>2</th>\n",
              "      <td>0.279653</td>\n",
              "      <td>-0.019467</td>\n",
              "      <td>-0.113462</td>\n",
              "      <td>-0.995380</td>\n",
              "      <td>-0.967187</td>\n",
              "      <td>-0.978944</td>\n",
              "      <td>-0.996520</td>\n",
              "      <td>-0.963668</td>\n",
              "      <td>-0.977469</td>\n",
              "      <td>-0.938692</td>\n",
              "      <td>...</td>\n",
              "      <td>0.414503</td>\n",
              "      <td>-0.390748</td>\n",
              "      <td>-0.760104</td>\n",
              "      <td>-0.118559</td>\n",
              "      <td>0.177899</td>\n",
              "      <td>0.100699</td>\n",
              "      <td>0.808529</td>\n",
              "      <td>-0.848933</td>\n",
              "      <td>0.180637</td>\n",
              "      <td>-0.049118</td>\n",
              "    </tr>\n",
              "    <tr>\n",
              "      <th>3</th>\n",
              "      <td>0.279174</td>\n",
              "      <td>-0.026201</td>\n",
              "      <td>-0.123283</td>\n",
              "      <td>-0.996091</td>\n",
              "      <td>-0.983403</td>\n",
              "      <td>-0.990675</td>\n",
              "      <td>-0.997099</td>\n",
              "      <td>-0.982750</td>\n",
              "      <td>-0.989302</td>\n",
              "      <td>-0.938692</td>\n",
              "      <td>...</td>\n",
              "      <td>0.404573</td>\n",
              "      <td>-0.117290</td>\n",
              "      <td>-0.482845</td>\n",
              "      <td>-0.036788</td>\n",
              "      <td>-0.012892</td>\n",
              "      <td>0.640011</td>\n",
              "      <td>-0.485366</td>\n",
              "      <td>-0.848649</td>\n",
              "      <td>0.181935</td>\n",
              "      <td>-0.047663</td>\n",
              "    </tr>\n",
              "    <tr>\n",
              "      <th>4</th>\n",
              "      <td>0.276629</td>\n",
              "      <td>-0.016570</td>\n",
              "      <td>-0.115362</td>\n",
              "      <td>-0.998139</td>\n",
              "      <td>-0.980817</td>\n",
              "      <td>-0.990482</td>\n",
              "      <td>-0.998321</td>\n",
              "      <td>-0.979672</td>\n",
              "      <td>-0.990441</td>\n",
              "      <td>-0.942469</td>\n",
              "      <td>...</td>\n",
              "      <td>0.087753</td>\n",
              "      <td>-0.351471</td>\n",
              "      <td>-0.699205</td>\n",
              "      <td>0.123320</td>\n",
              "      <td>0.122542</td>\n",
              "      <td>0.693578</td>\n",
              "      <td>-0.615971</td>\n",
              "      <td>-0.847865</td>\n",
              "      <td>0.185151</td>\n",
              "      <td>-0.043892</td>\n",
              "    </tr>\n",
              "    <tr>\n",
              "      <th>...</th>\n",
              "      <td>...</td>\n",
              "      <td>...</td>\n",
              "      <td>...</td>\n",
              "      <td>...</td>\n",
              "      <td>...</td>\n",
              "      <td>...</td>\n",
              "      <td>...</td>\n",
              "      <td>...</td>\n",
              "      <td>...</td>\n",
              "      <td>...</td>\n",
              "      <td>...</td>\n",
              "      <td>...</td>\n",
              "      <td>...</td>\n",
              "      <td>...</td>\n",
              "      <td>...</td>\n",
              "      <td>...</td>\n",
              "      <td>...</td>\n",
              "      <td>...</td>\n",
              "      <td>...</td>\n",
              "      <td>...</td>\n",
              "      <td>...</td>\n",
              "    </tr>\n",
              "    <tr>\n",
              "      <th>7347</th>\n",
              "      <td>0.299665</td>\n",
              "      <td>-0.057193</td>\n",
              "      <td>-0.181233</td>\n",
              "      <td>-0.195387</td>\n",
              "      <td>0.039905</td>\n",
              "      <td>0.077078</td>\n",
              "      <td>-0.282301</td>\n",
              "      <td>0.043616</td>\n",
              "      <td>0.060410</td>\n",
              "      <td>0.210795</td>\n",
              "      <td>...</td>\n",
              "      <td>-0.070157</td>\n",
              "      <td>-0.588433</td>\n",
              "      <td>-0.880324</td>\n",
              "      <td>-0.190437</td>\n",
              "      <td>0.829718</td>\n",
              "      <td>0.206972</td>\n",
              "      <td>-0.425619</td>\n",
              "      <td>-0.791883</td>\n",
              "      <td>0.238604</td>\n",
              "      <td>0.049819</td>\n",
              "    </tr>\n",
              "    <tr>\n",
              "      <th>7348</th>\n",
              "      <td>0.273853</td>\n",
              "      <td>-0.007749</td>\n",
              "      <td>-0.147468</td>\n",
              "      <td>-0.235309</td>\n",
              "      <td>0.004816</td>\n",
              "      <td>0.059280</td>\n",
              "      <td>-0.322552</td>\n",
              "      <td>-0.029456</td>\n",
              "      <td>0.080585</td>\n",
              "      <td>0.117440</td>\n",
              "      <td>...</td>\n",
              "      <td>0.165259</td>\n",
              "      <td>-0.390738</td>\n",
              "      <td>-0.680744</td>\n",
              "      <td>0.064907</td>\n",
              "      <td>0.875679</td>\n",
              "      <td>-0.879033</td>\n",
              "      <td>0.400219</td>\n",
              "      <td>-0.771840</td>\n",
              "      <td>0.252676</td>\n",
              "      <td>0.050053</td>\n",
              "    </tr>\n",
              "    <tr>\n",
              "      <th>7349</th>\n",
              "      <td>0.273387</td>\n",
              "      <td>-0.017011</td>\n",
              "      <td>-0.045022</td>\n",
              "      <td>-0.218218</td>\n",
              "      <td>-0.103822</td>\n",
              "      <td>0.274533</td>\n",
              "      <td>-0.304515</td>\n",
              "      <td>-0.098913</td>\n",
              "      <td>0.332584</td>\n",
              "      <td>0.043999</td>\n",
              "      <td>...</td>\n",
              "      <td>0.195034</td>\n",
              "      <td>0.025145</td>\n",
              "      <td>-0.304029</td>\n",
              "      <td>0.052806</td>\n",
              "      <td>-0.266724</td>\n",
              "      <td>0.864404</td>\n",
              "      <td>0.701169</td>\n",
              "      <td>-0.779133</td>\n",
              "      <td>0.249145</td>\n",
              "      <td>0.040811</td>\n",
              "    </tr>\n",
              "    <tr>\n",
              "      <th>7350</th>\n",
              "      <td>0.289654</td>\n",
              "      <td>-0.018843</td>\n",
              "      <td>-0.158281</td>\n",
              "      <td>-0.219139</td>\n",
              "      <td>-0.111412</td>\n",
              "      <td>0.268893</td>\n",
              "      <td>-0.310487</td>\n",
              "      <td>-0.068200</td>\n",
              "      <td>0.319473</td>\n",
              "      <td>0.101702</td>\n",
              "      <td>...</td>\n",
              "      <td>0.013865</td>\n",
              "      <td>0.063907</td>\n",
              "      <td>-0.344314</td>\n",
              "      <td>-0.101360</td>\n",
              "      <td>0.700740</td>\n",
              "      <td>0.936674</td>\n",
              "      <td>-0.589479</td>\n",
              "      <td>-0.785181</td>\n",
              "      <td>0.246432</td>\n",
              "      <td>0.025339</td>\n",
              "    </tr>\n",
              "    <tr>\n",
              "      <th>7351</th>\n",
              "      <td>0.351503</td>\n",
              "      <td>-0.012423</td>\n",
              "      <td>-0.203867</td>\n",
              "      <td>-0.269270</td>\n",
              "      <td>-0.087212</td>\n",
              "      <td>0.177404</td>\n",
              "      <td>-0.377404</td>\n",
              "      <td>-0.038678</td>\n",
              "      <td>0.229430</td>\n",
              "      <td>0.269013</td>\n",
              "      <td>...</td>\n",
              "      <td>-0.058402</td>\n",
              "      <td>-0.387052</td>\n",
              "      <td>-0.740738</td>\n",
              "      <td>-0.280088</td>\n",
              "      <td>-0.007739</td>\n",
              "      <td>-0.056088</td>\n",
              "      <td>-0.616956</td>\n",
              "      <td>-0.783267</td>\n",
              "      <td>0.246809</td>\n",
              "      <td>0.036695</td>\n",
              "    </tr>\n",
              "  </tbody>\n",
              "</table>\n",
              "<p>7352 rows × 561 columns</p>\n",
              "</div>\n",
              "    <div class=\"colab-df-buttons\">\n",
              "\n",
              "  <div class=\"colab-df-container\">\n",
              "    <button class=\"colab-df-convert\" onclick=\"convertToInteractive('df-8658d2f7-6dd3-4329-97c2-60d2cf175727')\"\n",
              "            title=\"Convert this dataframe to an interactive table.\"\n",
              "            style=\"display:none;\">\n",
              "\n",
              "  <svg xmlns=\"http://www.w3.org/2000/svg\" height=\"24px\" viewBox=\"0 -960 960 960\">\n",
              "    <path d=\"M120-120v-720h720v720H120Zm60-500h600v-160H180v160Zm220 220h160v-160H400v160Zm0 220h160v-160H400v160ZM180-400h160v-160H180v160Zm440 0h160v-160H620v160ZM180-180h160v-160H180v160Zm440 0h160v-160H620v160Z\"/>\n",
              "  </svg>\n",
              "    </button>\n",
              "\n",
              "  <style>\n",
              "    .colab-df-container {\n",
              "      display:flex;\n",
              "      gap: 12px;\n",
              "    }\n",
              "\n",
              "    .colab-df-convert {\n",
              "      background-color: #E8F0FE;\n",
              "      border: none;\n",
              "      border-radius: 50%;\n",
              "      cursor: pointer;\n",
              "      display: none;\n",
              "      fill: #1967D2;\n",
              "      height: 32px;\n",
              "      padding: 0 0 0 0;\n",
              "      width: 32px;\n",
              "    }\n",
              "\n",
              "    .colab-df-convert:hover {\n",
              "      background-color: #E2EBFA;\n",
              "      box-shadow: 0px 1px 2px rgba(60, 64, 67, 0.3), 0px 1px 3px 1px rgba(60, 64, 67, 0.15);\n",
              "      fill: #174EA6;\n",
              "    }\n",
              "\n",
              "    .colab-df-buttons div {\n",
              "      margin-bottom: 4px;\n",
              "    }\n",
              "\n",
              "    [theme=dark] .colab-df-convert {\n",
              "      background-color: #3B4455;\n",
              "      fill: #D2E3FC;\n",
              "    }\n",
              "\n",
              "    [theme=dark] .colab-df-convert:hover {\n",
              "      background-color: #434B5C;\n",
              "      box-shadow: 0px 1px 3px 1px rgba(0, 0, 0, 0.15);\n",
              "      filter: drop-shadow(0px 1px 2px rgba(0, 0, 0, 0.3));\n",
              "      fill: #FFFFFF;\n",
              "    }\n",
              "  </style>\n",
              "\n",
              "    <script>\n",
              "      const buttonEl =\n",
              "        document.querySelector('#df-8658d2f7-6dd3-4329-97c2-60d2cf175727 button.colab-df-convert');\n",
              "      buttonEl.style.display =\n",
              "        google.colab.kernel.accessAllowed ? 'block' : 'none';\n",
              "\n",
              "      async function convertToInteractive(key) {\n",
              "        const element = document.querySelector('#df-8658d2f7-6dd3-4329-97c2-60d2cf175727');\n",
              "        const dataTable =\n",
              "          await google.colab.kernel.invokeFunction('convertToInteractive',\n",
              "                                                    [key], {});\n",
              "        if (!dataTable) return;\n",
              "\n",
              "        const docLinkHtml = 'Like what you see? Visit the ' +\n",
              "          '<a target=\"_blank\" href=https://colab.research.google.com/notebooks/data_table.ipynb>data table notebook</a>'\n",
              "          + ' to learn more about interactive tables.';\n",
              "        element.innerHTML = '';\n",
              "        dataTable['output_type'] = 'display_data';\n",
              "        await google.colab.output.renderOutput(dataTable, element);\n",
              "        const docLink = document.createElement('div');\n",
              "        docLink.innerHTML = docLinkHtml;\n",
              "        element.appendChild(docLink);\n",
              "      }\n",
              "    </script>\n",
              "  </div>\n",
              "\n",
              "\n",
              "<div id=\"df-4c299241-a922-4f06-9ed5-1128e3fcea4f\">\n",
              "  <button class=\"colab-df-quickchart\" onclick=\"quickchart('df-4c299241-a922-4f06-9ed5-1128e3fcea4f')\"\n",
              "            title=\"Suggest charts\"\n",
              "            style=\"display:none;\">\n",
              "\n",
              "<svg xmlns=\"http://www.w3.org/2000/svg\" height=\"24px\"viewBox=\"0 0 24 24\"\n",
              "     width=\"24px\">\n",
              "    <g>\n",
              "        <path d=\"M19 3H5c-1.1 0-2 .9-2 2v14c0 1.1.9 2 2 2h14c1.1 0 2-.9 2-2V5c0-1.1-.9-2-2-2zM9 17H7v-7h2v7zm4 0h-2V7h2v10zm4 0h-2v-4h2v4z\"/>\n",
              "    </g>\n",
              "</svg>\n",
              "  </button>\n",
              "\n",
              "<style>\n",
              "  .colab-df-quickchart {\n",
              "      --bg-color: #E8F0FE;\n",
              "      --fill-color: #1967D2;\n",
              "      --hover-bg-color: #E2EBFA;\n",
              "      --hover-fill-color: #174EA6;\n",
              "      --disabled-fill-color: #AAA;\n",
              "      --disabled-bg-color: #DDD;\n",
              "  }\n",
              "\n",
              "  [theme=dark] .colab-df-quickchart {\n",
              "      --bg-color: #3B4455;\n",
              "      --fill-color: #D2E3FC;\n",
              "      --hover-bg-color: #434B5C;\n",
              "      --hover-fill-color: #FFFFFF;\n",
              "      --disabled-bg-color: #3B4455;\n",
              "      --disabled-fill-color: #666;\n",
              "  }\n",
              "\n",
              "  .colab-df-quickchart {\n",
              "    background-color: var(--bg-color);\n",
              "    border: none;\n",
              "    border-radius: 50%;\n",
              "    cursor: pointer;\n",
              "    display: none;\n",
              "    fill: var(--fill-color);\n",
              "    height: 32px;\n",
              "    padding: 0;\n",
              "    width: 32px;\n",
              "  }\n",
              "\n",
              "  .colab-df-quickchart:hover {\n",
              "    background-color: var(--hover-bg-color);\n",
              "    box-shadow: 0 1px 2px rgba(60, 64, 67, 0.3), 0 1px 3px 1px rgba(60, 64, 67, 0.15);\n",
              "    fill: var(--button-hover-fill-color);\n",
              "  }\n",
              "\n",
              "  .colab-df-quickchart-complete:disabled,\n",
              "  .colab-df-quickchart-complete:disabled:hover {\n",
              "    background-color: var(--disabled-bg-color);\n",
              "    fill: var(--disabled-fill-color);\n",
              "    box-shadow: none;\n",
              "  }\n",
              "\n",
              "  .colab-df-spinner {\n",
              "    border: 2px solid var(--fill-color);\n",
              "    border-color: transparent;\n",
              "    border-bottom-color: var(--fill-color);\n",
              "    animation:\n",
              "      spin 1s steps(1) infinite;\n",
              "  }\n",
              "\n",
              "  @keyframes spin {\n",
              "    0% {\n",
              "      border-color: transparent;\n",
              "      border-bottom-color: var(--fill-color);\n",
              "      border-left-color: var(--fill-color);\n",
              "    }\n",
              "    20% {\n",
              "      border-color: transparent;\n",
              "      border-left-color: var(--fill-color);\n",
              "      border-top-color: var(--fill-color);\n",
              "    }\n",
              "    30% {\n",
              "      border-color: transparent;\n",
              "      border-left-color: var(--fill-color);\n",
              "      border-top-color: var(--fill-color);\n",
              "      border-right-color: var(--fill-color);\n",
              "    }\n",
              "    40% {\n",
              "      border-color: transparent;\n",
              "      border-right-color: var(--fill-color);\n",
              "      border-top-color: var(--fill-color);\n",
              "    }\n",
              "    60% {\n",
              "      border-color: transparent;\n",
              "      border-right-color: var(--fill-color);\n",
              "    }\n",
              "    80% {\n",
              "      border-color: transparent;\n",
              "      border-right-color: var(--fill-color);\n",
              "      border-bottom-color: var(--fill-color);\n",
              "    }\n",
              "    90% {\n",
              "      border-color: transparent;\n",
              "      border-bottom-color: var(--fill-color);\n",
              "    }\n",
              "  }\n",
              "</style>\n",
              "\n",
              "  <script>\n",
              "    async function quickchart(key) {\n",
              "      const quickchartButtonEl =\n",
              "        document.querySelector('#' + key + ' button');\n",
              "      quickchartButtonEl.disabled = true;  // To prevent multiple clicks.\n",
              "      quickchartButtonEl.classList.add('colab-df-spinner');\n",
              "      try {\n",
              "        const charts = await google.colab.kernel.invokeFunction(\n",
              "            'suggestCharts', [key], {});\n",
              "      } catch (error) {\n",
              "        console.error('Error during call to suggestCharts:', error);\n",
              "      }\n",
              "      quickchartButtonEl.classList.remove('colab-df-spinner');\n",
              "      quickchartButtonEl.classList.add('colab-df-quickchart-complete');\n",
              "    }\n",
              "    (() => {\n",
              "      let quickchartButtonEl =\n",
              "        document.querySelector('#df-4c299241-a922-4f06-9ed5-1128e3fcea4f button');\n",
              "      quickchartButtonEl.style.display =\n",
              "        google.colab.kernel.accessAllowed ? 'block' : 'none';\n",
              "    })();\n",
              "  </script>\n",
              "</div>\n",
              "\n",
              "  <div id=\"id_d68812bb-5269-4edc-b66a-ec9c556d1363\">\n",
              "    <style>\n",
              "      .colab-df-generate {\n",
              "        background-color: #E8F0FE;\n",
              "        border: none;\n",
              "        border-radius: 50%;\n",
              "        cursor: pointer;\n",
              "        display: none;\n",
              "        fill: #1967D2;\n",
              "        height: 32px;\n",
              "        padding: 0 0 0 0;\n",
              "        width: 32px;\n",
              "      }\n",
              "\n",
              "      .colab-df-generate:hover {\n",
              "        background-color: #E2EBFA;\n",
              "        box-shadow: 0px 1px 2px rgba(60, 64, 67, 0.3), 0px 1px 3px 1px rgba(60, 64, 67, 0.15);\n",
              "        fill: #174EA6;\n",
              "      }\n",
              "\n",
              "      [theme=dark] .colab-df-generate {\n",
              "        background-color: #3B4455;\n",
              "        fill: #D2E3FC;\n",
              "      }\n",
              "\n",
              "      [theme=dark] .colab-df-generate:hover {\n",
              "        background-color: #434B5C;\n",
              "        box-shadow: 0px 1px 3px 1px rgba(0, 0, 0, 0.15);\n",
              "        filter: drop-shadow(0px 1px 2px rgba(0, 0, 0, 0.3));\n",
              "        fill: #FFFFFF;\n",
              "      }\n",
              "    </style>\n",
              "    <button class=\"colab-df-generate\" onclick=\"generateWithVariable('train_x')\"\n",
              "            title=\"Generate code using this dataframe.\"\n",
              "            style=\"display:none;\">\n",
              "\n",
              "  <svg xmlns=\"http://www.w3.org/2000/svg\" height=\"24px\"viewBox=\"0 0 24 24\"\n",
              "       width=\"24px\">\n",
              "    <path d=\"M7,19H8.4L18.45,9,17,7.55,7,17.6ZM5,21V16.75L18.45,3.32a2,2,0,0,1,2.83,0l1.4,1.43a1.91,1.91,0,0,1,.58,1.4,1.91,1.91,0,0,1-.58,1.4L9.25,21ZM18.45,9,17,7.55Zm-12,3A5.31,5.31,0,0,0,4.9,8.1,5.31,5.31,0,0,0,1,6.5,5.31,5.31,0,0,0,4.9,4.9,5.31,5.31,0,0,0,6.5,1,5.31,5.31,0,0,0,8.1,4.9,5.31,5.31,0,0,0,12,6.5,5.46,5.46,0,0,0,6.5,12Z\"/>\n",
              "  </svg>\n",
              "    </button>\n",
              "    <script>\n",
              "      (() => {\n",
              "      const buttonEl =\n",
              "        document.querySelector('#id_d68812bb-5269-4edc-b66a-ec9c556d1363 button.colab-df-generate');\n",
              "      buttonEl.style.display =\n",
              "        google.colab.kernel.accessAllowed ? 'block' : 'none';\n",
              "\n",
              "      buttonEl.onclick = () => {\n",
              "        google.colab.notebook.generateWithVariable('train_x');\n",
              "      }\n",
              "      })();\n",
              "    </script>\n",
              "  </div>\n",
              "\n",
              "    </div>\n",
              "  </div>\n"
            ],
            "text/plain": [
              "           0         1         2         3         4         5         6    \\\n",
              "0     0.288585 -0.020294 -0.132905 -0.995279 -0.983111 -0.913526 -0.995112   \n",
              "1     0.278419 -0.016411 -0.123520 -0.998245 -0.975300 -0.960322 -0.998807   \n",
              "2     0.279653 -0.019467 -0.113462 -0.995380 -0.967187 -0.978944 -0.996520   \n",
              "3     0.279174 -0.026201 -0.123283 -0.996091 -0.983403 -0.990675 -0.997099   \n",
              "4     0.276629 -0.016570 -0.115362 -0.998139 -0.980817 -0.990482 -0.998321   \n",
              "...        ...       ...       ...       ...       ...       ...       ...   \n",
              "7347  0.299665 -0.057193 -0.181233 -0.195387  0.039905  0.077078 -0.282301   \n",
              "7348  0.273853 -0.007749 -0.147468 -0.235309  0.004816  0.059280 -0.322552   \n",
              "7349  0.273387 -0.017011 -0.045022 -0.218218 -0.103822  0.274533 -0.304515   \n",
              "7350  0.289654 -0.018843 -0.158281 -0.219139 -0.111412  0.268893 -0.310487   \n",
              "7351  0.351503 -0.012423 -0.203867 -0.269270 -0.087212  0.177404 -0.377404   \n",
              "\n",
              "           7         8         9    ...       551       552       553  \\\n",
              "0    -0.983185 -0.923527 -0.934724  ... -0.074323 -0.298676 -0.710304   \n",
              "1    -0.974914 -0.957686 -0.943068  ...  0.158075 -0.595051 -0.861499   \n",
              "2    -0.963668 -0.977469 -0.938692  ...  0.414503 -0.390748 -0.760104   \n",
              "3    -0.982750 -0.989302 -0.938692  ...  0.404573 -0.117290 -0.482845   \n",
              "4    -0.979672 -0.990441 -0.942469  ...  0.087753 -0.351471 -0.699205   \n",
              "...        ...       ...       ...  ...       ...       ...       ...   \n",
              "7347  0.043616  0.060410  0.210795  ... -0.070157 -0.588433 -0.880324   \n",
              "7348 -0.029456  0.080585  0.117440  ...  0.165259 -0.390738 -0.680744   \n",
              "7349 -0.098913  0.332584  0.043999  ...  0.195034  0.025145 -0.304029   \n",
              "7350 -0.068200  0.319473  0.101702  ...  0.013865  0.063907 -0.344314   \n",
              "7351 -0.038678  0.229430  0.269013  ... -0.058402 -0.387052 -0.740738   \n",
              "\n",
              "           554       555       556       557       558       559       560  \n",
              "0    -0.112754  0.030400 -0.464761 -0.018446 -0.841247  0.179941 -0.058627  \n",
              "1     0.053477 -0.007435 -0.732626  0.703511 -0.844788  0.180289 -0.054317  \n",
              "2    -0.118559  0.177899  0.100699  0.808529 -0.848933  0.180637 -0.049118  \n",
              "3    -0.036788 -0.012892  0.640011 -0.485366 -0.848649  0.181935 -0.047663  \n",
              "4     0.123320  0.122542  0.693578 -0.615971 -0.847865  0.185151 -0.043892  \n",
              "...        ...       ...       ...       ...       ...       ...       ...  \n",
              "7347 -0.190437  0.829718  0.206972 -0.425619 -0.791883  0.238604  0.049819  \n",
              "7348  0.064907  0.875679 -0.879033  0.400219 -0.771840  0.252676  0.050053  \n",
              "7349  0.052806 -0.266724  0.864404  0.701169 -0.779133  0.249145  0.040811  \n",
              "7350 -0.101360  0.700740  0.936674 -0.589479 -0.785181  0.246432  0.025339  \n",
              "7351 -0.280088 -0.007739 -0.056088 -0.616956 -0.783267  0.246809  0.036695  \n",
              "\n",
              "[7352 rows x 561 columns]"
            ]
          },
          "execution_count": 3,
          "metadata": {},
          "output_type": "execute_result"
        }
      ],
      "source": [
        "train_x = pd.read_csv(\"X_train.txt\", header = None, delim_whitespace=True)\n",
        "train_y = pd.read_csv(\"y_train.txt\", header = None)\n",
        "\n",
        "test_x = pd.read_csv(\"X_test.txt\", header = None, delim_whitespace=True)\n",
        "test_y = pd.read_csv(\"y_test.txt\", header = None)\n",
        "train_x"
      ]
    },
    {
      "cell_type": "markdown",
      "metadata": {},
      "source": [
        "## 2 - Parte A"
      ]
    },
    {
      "cell_type": "code",
      "execution_count": null,
      "metadata": {
        "id": "VzrEKDt6-_QA"
      },
      "outputs": [],
      "source": [
        "train_x = np.array(train_x)\n",
        "train_y = train_y.values.ravel()"
      ]
    },
    {
      "cell_type": "code",
      "execution_count": null,
      "metadata": {
        "id": "eRfapUF2YQRw"
      },
      "outputs": [],
      "source": [
        "kf = KFold(n_splits=5)\n",
        "multi_class = [\"ovo\", \"ovr\", \"multinomial\"]\n"
      ]
    },
    {
      "cell_type": "code",
      "execution_count": null,
      "metadata": {
        "colab": {
          "base_uri": "https://localhost:8080/"
        },
        "id": "AIiLZNucYPmt",
        "outputId": "ebe88337-b286-4011-9577-9df37d1a5aaf"
      },
      "outputs": [
        {
          "name": "stdout",
          "output_type": "stream",
          "text": [
            "multi_class=ovo, accuracy=93.40%, balanced_accuracy=93.19%, precision=93.90%, recall=93.19%, f1=93.19%\n",
            "multi_class=ovr, accuracy=93.58%, balanced_accuracy=93.34%, precision=94.24%, recall=93.34%, f1=93.44%\n",
            "multi_class=multinomial, accuracy=93.47%, balanced_accuracy=93.25%, precision=93.95%, recall=93.25%, f1=93.27%\n"
          ]
        }
      ],
      "source": [
        "for k in multi_class:\n",
        "  classificador1=0\n",
        "  soma1 = 0\n",
        "  soma2 = 0\n",
        "  soma3 = 0\n",
        "  soma4 = 0\n",
        "  soma5 = 0\n",
        "  if k == \"ovo\":\n",
        "    classificador1 = OneVsOneClassifier(LogisticRegression(random_state=0, solver = 'sag', max_iter = 1000))\n",
        "  else:\n",
        "    classificador1 = LogisticRegression(random_state=0, solver = 'sag', multi_class = k, max_iter = 1000)\n",
        "\n",
        "  for i, (train_index, val_index) in enumerate(kf.split(train_x)):\n",
        "    classificador1.fit(train_x[train_index], train_y[train_index])\n",
        "    y_pred = classificador1.predict(train_x[val_index])\n",
        "    soma1 += (accuracy_score(train_y[val_index], y_pred))*100\n",
        "    soma2 += (balanced_accuracy_score(train_y[val_index], y_pred))*100\n",
        "    soma3 += (precision_score(train_y[val_index], y_pred, average = 'macro'))*100\n",
        "    soma4 += (recall_score(train_y[val_index], y_pred, average = 'macro'))*100\n",
        "    soma5 += (f1_score(train_y[val_index], y_pred, average = 'macro'))*100\n",
        "\n",
        "  print(\"multi_class=%s, accuracy=%.2f%%, balanced_accuracy=%.2f%%, precision=%.2f%%, recall=%.2f%%, f1=%.2f%%\" %\n",
        "   (k, (soma1/5), (soma2/5), (soma3/5), (soma4/5), (soma5/5)))\n",
        "\n",
        "\n"
      ]
    },
    {
      "cell_type": "code",
      "execution_count": null,
      "metadata": {
        "id": "PSy5rVISBG9_"
      },
      "outputs": [],
      "source": [
        "classificador1 = LogisticRegression(random_state=0, solver = 'sag', multi_class = 'ovr', max_iter = 1000).fit(train_x, train_y)"
      ]
    },
    {
      "cell_type": "code",
      "execution_count": null,
      "metadata": {
        "id": "SlYWk6yjMnP6"
      },
      "outputs": [],
      "source": [
        "y_pred = classificador1.predict(test_x)"
      ]
    },
    {
      "cell_type": "code",
      "execution_count": null,
      "metadata": {
        "colab": {
          "base_uri": "https://localhost:8080/",
          "height": 542
        },
        "id": "ZbEE7qrFQuzY",
        "outputId": "2ee5d2f2-6518-434d-cd9a-bb40a7ed2c50"
      },
      "outputs": [
        {
          "data": {
            "image/png": "[encoded data removed]",
            "text/plain": [
              "<Figure size 800x600 with 2 Axes>"
            ]
          },
          "metadata": {},
          "output_type": "display_data"
        }
      ],
      "source": [
        "cm = confusion_matrix(test_y, y_pred)\n",
        "plt.figure(figsize=(8, 6))\n",
        "sns.heatmap(cm, annot=True, cmap='Reds', fmt='g', xticklabels=['1', '2', '3', '4', '5', '6'], yticklabels=['1', '2', '3', '4', '5', '6'])\n",
        "plt.xlabel('Predicted')\n",
        "plt.ylabel('True')\n",
        "plt.show()"
      ]
    },
    {
      "cell_type": "code",
      "execution_count": null,
      "metadata": {
        "colab": {
          "base_uri": "https://localhost:8080/"
        },
        "id": "Mga2Jl_BlOKr",
        "outputId": "18d8f8ae-22c5-4d64-a14c-649a57db581f"
      },
      "outputs": [
        {
          "name": "stdout",
          "output_type": "stream",
          "text": [
            "accuracy=96.20%, balanced_accuracy=96.13%, precision=96.43%, recall=96.13%, f1=96.21%\n"
          ]
        }
      ],
      "source": [
        "print(\"accuracy=%.2f%%, balanced_accuracy=%.2f%%, precision=%.2f%%, recall=%.2f%%, f1=%.2f%%\" %\n",
        "   ((accuracy_score(test_y, y_pred))*100, (balanced_accuracy_score(test_y, y_pred))*100,\n",
        "    (precision_score(test_y, y_pred, average = 'macro'))*100, (recall_score(test_y, y_pred, average = 'macro'))*100,\n",
        "     (f1_score(test_y, y_pred, average = 'macro'))*100))"
      ]
    },
    {
      "cell_type": "code",
      "execution_count": null,
      "metadata": {
        "id": "3r12PJ20gGlz"
      },
      "outputs": [],
      "source": [
        "classificador2 = SGDClassifier(loss = 'log_loss', shuffle=False, learning_rate='constant', eta0=0.001, max_iter = 1000).fit(train_x, train_y)"
      ]
    },
    {
      "cell_type": "code",
      "execution_count": null,
      "metadata": {
        "id": "cTF0eaJFdIKM"
      },
      "outputs": [],
      "source": [
        "y_pred = classificador2.predict(test_x)"
      ]
    },
    {
      "cell_type": "code",
      "execution_count": null,
      "metadata": {
        "colab": {
          "base_uri": "https://localhost:8080/",
          "height": 542
        },
        "id": "YP9Leu3phKXC",
        "outputId": "dde3d018-3145-41d7-cc45-bbc7967aad92"
      },
      "outputs": [
        {
          "data": {
            "image/png": "[encoded data removed]",
            "text/plain": [
              "<Figure size 800x600 with 2 Axes>"
            ]
          },
          "metadata": {},
          "output_type": "display_data"
        }
      ],
      "source": [
        "cm = confusion_matrix(test_y, y_pred)\n",
        "plt.figure(figsize=(8, 6))\n",
        "sns.heatmap(cm, annot=True, cmap='Reds', fmt='g', xticklabels=['1', '2', '3', '4', '5', '6'], yticklabels=['1', '2', '3', '4', '5', '6'])\n",
        "plt.xlabel('Predicted')\n",
        "plt.ylabel('True')\n",
        "plt.show()"
      ]
    },
    {
      "cell_type": "code",
      "execution_count": null,
      "metadata": {
        "colab": {
          "base_uri": "https://localhost:8080/"
        },
        "id": "SJvbXnvfnoJF",
        "outputId": "63664570-5140-4b8f-e1b4-f6030ef5e8a7"
      },
      "outputs": [
        {
          "name": "stdout",
          "output_type": "stream",
          "text": [
            "accuracy=94.47%, balanced_accuracy=94.47%, precision=94.48%, recall=94.47%, f1=94.42%\n"
          ]
        }
      ],
      "source": [
        "print(\"accuracy=%.2f%%, balanced_accuracy=%.2f%%, precision=%.2f%%, recall=%.2f%%, f1=%.2f%%\" %\n",
        "   ((accuracy_score(test_y, y_pred))*100, (balanced_accuracy_score(test_y, y_pred))*100,\n",
        "    (precision_score(test_y, y_pred, average = 'macro'))*100, (recall_score(test_y, y_pred, average = 'macro'))*100,\n",
        "     (f1_score(test_y, y_pred, average = 'macro'))*100))"
      ]
    },
    {
      "cell_type": "markdown",
      "metadata": {},
      "source": [
        "## 3 - Parte B"
      ]
    },
    {
      "cell_type": "code",
      "execution_count": null,
      "metadata": {
        "id": "0hqu245b9cDd"
      },
      "outputs": [],
      "source": [
        "k_values = range(1, 31)\n",
        "scores = []"
      ]
    },
    {
      "cell_type": "code",
      "execution_count": null,
      "metadata": {
        "id": "uesecxQu-Vwt"
      },
      "outputs": [],
      "source": [
        "folds = KFold(n_splits=5, shuffle=False, random_state=None)"
      ]
    },
    {
      "cell_type": "code",
      "execution_count": null,
      "metadata": {
        "id": "Iyf3Tqba-g36"
      },
      "outputs": [],
      "source": [
        "for k in k_values:\n",
        "    knn = KNeighborsClassifier(n_neighbors=k)\n",
        "    pre_scores = cross_val_score(knn, train_x, train_y, cv=folds, scoring='accuracy')\n",
        "    scores.append(pre_scores.mean())"
      ]
    },
    {
      "cell_type": "code",
      "execution_count": null,
      "metadata": {
        "colab": {
          "base_uri": "https://localhost:8080/"
        },
        "id": "qFAe4jMODeR5",
        "outputId": "2585c38b-ef54-4e86-9ec3-1108d9db5bfb"
      },
      "outputs": [
        {
          "data": {
            "text/plain": [
              "16"
            ]
          },
          "execution_count": 37,
          "metadata": {},
          "output_type": "execute_result"
        }
      ],
      "source": [
        "best_k = k_values[np.argmax(scores)]\n",
        "best_score = max(scores)\n",
        "best_k"
      ]
    },
    {
      "cell_type": "code",
      "execution_count": null,
      "metadata": {
        "colab": {
          "base_uri": "https://localhost:8080/",
          "height": 472
        },
        "id": "-Wnb2dvL_YFN",
        "outputId": "e9c3ff00-3e81-4933-8879-8ceeabe75aa6"
      },
      "outputs": [
        {
          "data": {
            "image/png": "[encoded data removed]",
            "text/plain": [
              "<Figure size 640x480 with 1 Axes>"
            ]
          },
          "metadata": {},
          "output_type": "display_data"
        }
      ],
      "source": [
        "plt.plot(k_values, scores, marker='o')\n",
        "plt.scatter(best_k, best_score, color='red', s=100, zorder=5)\n",
        "plt.xlabel('k')\n",
        "plt.ylabel('Acurácia')\n",
        "plt.title('Acurácia x k')\n",
        "plt.show()"
      ]
    },
    {
      "cell_type": "code",
      "execution_count": null,
      "metadata": {
        "id": "BGYm5YEK-qJS"
      },
      "outputs": [],
      "source": [
        "knn = KNeighborsClassifier(n_neighbors=16).fit(train_x,train_y)"
      ]
    },
    {
      "cell_type": "code",
      "execution_count": null,
      "metadata": {
        "id": "gf6ak1Kw_4m-"
      },
      "outputs": [],
      "source": [
        "y_pred = knn.predict(test_x)"
      ]
    },
    {
      "cell_type": "code",
      "execution_count": null,
      "metadata": {
        "colab": {
          "base_uri": "https://localhost:8080/",
          "height": 542
        },
        "id": "g8u_vgiqAUgj",
        "outputId": "d1cbdb74-5e47-4e3a-d690-a9549cf4ab50"
      },
      "outputs": [
        {
          "data": {
            "image/png": "[encoded data removed]",
            "text/plain": [
              "<Figure size 800x600 with 2 Axes>"
            ]
          },
          "metadata": {},
          "output_type": "display_data"
        }
      ],
      "source": [
        "cm = confusion_matrix(test_y, y_pred)\n",
        "plt.figure(figsize=(8, 6))\n",
        "sns.heatmap(cm, annot=True, cmap='Reds', fmt='g', xticklabels=['1', '2', '3', '4', '5', '6'], yticklabels=['1', '2', '3', '4', '5', '6'])\n",
        "plt.xlabel('Predicted')\n",
        "plt.ylabel('True')\n",
        "plt.show()"
      ]
    },
    {
      "cell_type": "code",
      "execution_count": null,
      "metadata": {
        "colab": {
          "base_uri": "https://localhost:8080/"
        },
        "id": "buZRG1Q8oZ92",
        "outputId": "502547d2-ec6c-43c6-d169-5c4c099f8cd4"
      },
      "outputs": [
        {
          "name": "stdout",
          "output_type": "stream",
          "text": [
            "accuracy=90.60%, balanced_accuracy=90.07%, precision=91.12%, recall=90.07%, f1=90.24%\n"
          ]
        }
      ],
      "source": [
        "print(\"accuracy=%.2f%%, balanced_accuracy=%.2f%%, precision=%.2f%%, recall=%.2f%%, f1=%.2f%%\" %\n",
        "   ((accuracy_score(test_y, y_pred))*100, (balanced_accuracy_score(test_y, y_pred))*100,\n",
        "    (precision_score(test_y, y_pred, average = 'macro'))*100, (recall_score(test_y, y_pred, average = 'macro'))*100,\n",
        "     (f1_score(test_y, y_pred, average = 'macro'))*100))"
      ]
    },
    {
      "cell_type": "markdown",
      "metadata": {},
      "source": [
        "## 4 - Dataset bruto"
      ]
    },
    {
      "cell_type": "code",
      "execution_count": null,
      "metadata": {
        "id": "Qq-1vbJ1FdUt"
      },
      "outputs": [],
      "source": [
        "train_acc_bruto_x = pd.read_csv(\"body_acc_x_train.txt\", header = None, delim_whitespace=True)\n",
        "train_acc_bruto_y = pd.read_csv(\"body_acc_y_train.txt\", header = None, delim_whitespace=True)\n",
        "train_acc_bruto_z = pd.read_csv(\"body_acc_z_train.txt\", header = None, delim_whitespace=True)\n",
        "train_gyro_bruto_x = pd.read_csv(\"body_gyro_x_train.txt\", header = None, delim_whitespace=True)\n",
        "train_gyro_bruto_y = pd.read_csv(\"body_gyro_y_train.txt\", header = None, delim_whitespace=True)\n",
        "train_gyro_bruto_z = pd.read_csv(\"body_gyro_z_train.txt\", header = None, delim_whitespace=True)\n",
        "\n",
        "test_acc_bruto_x = pd.read_csv(\"body_acc_x_test.txt\", header = None, delim_whitespace=True)\n",
        "test_acc_bruto_y = pd.read_csv(\"body_acc_y_test.txt\", header = None, delim_whitespace=True)\n",
        "test_acc_bruto_z = pd.read_csv(\"body_acc_z_test.txt\", header = None, delim_whitespace=True)\n",
        "test_gyro_bruto_x = pd.read_csv(\"body_gyro_x_test.txt\", header = None, delim_whitespace=True)\n",
        "test_gyro_bruto_y = pd.read_csv(\"body_gyro_y_test.txt\", header = None, delim_whitespace=True)\n",
        "test_gyro_bruto_z = pd.read_csv(\"body_gyro_z_test.txt\", header = None, delim_whitespace=True)"
      ]
    },
    {
      "cell_type": "code",
      "execution_count": null,
      "metadata": {
        "id": "dhbEiB8RMt96"
      },
      "outputs": [],
      "source": [
        "train_x_concat = pd.concat([train_acc_bruto_x, train_acc_bruto_y, train_acc_bruto_z, train_gyro_bruto_x, train_gyro_bruto_y, train_gyro_bruto_z], axis=1)\n",
        "\n",
        "test_x_concat = pd.concat([test_acc_bruto_x, test_acc_bruto_y, test_acc_bruto_z, test_gyro_bruto_x, test_gyro_bruto_y, test_gyro_bruto_z], axis=1)"
      ]
    },
    {
      "cell_type": "code",
      "execution_count": null,
      "metadata": {
        "id": "MMre8-DFVIJT"
      },
      "outputs": [],
      "source": [
        "train_x = np.array(train_x_concat)"
      ]
    },
    {
      "cell_type": "code",
      "execution_count": null,
      "metadata": {
        "colab": {
          "base_uri": "https://localhost:8080/",
          "height": 444
        },
        "id": "e3CMx2cRsfjT",
        "outputId": "dc7522af-2021-480d-b9c3-6d3e3740dfc9"
      },
      "outputs": [
        {
          "data": {
            "application/vnd.google.colaboratory.intrinsic+json": {
              "type": "dataframe",
              "variable_name": "test_x_concat"
            },
            "text/html": [
              "\n",
              "  <div id=\"df-5a49cfea-9325-497b-b7f0-c9c4248bbe6f\" class=\"colab-df-container\">\n",
              "    <div>\n",
              "<style scoped>\n",
              "    .dataframe tbody tr th:only-of-type {\n",
              "        vertical-align: middle;\n",
              "    }\n",
              "\n",
              "    .dataframe tbody tr th {\n",
              "        vertical-align: top;\n",
              "    }\n",
              "\n",
              "    .dataframe thead th {\n",
              "        text-align: right;\n",
              "    }\n",
              "</style>\n",
              "<table border=\"1\" class=\"dataframe\">\n",
              "  <thead>\n",
              "    <tr style=\"text-align: right;\">\n",
              "      <th></th>\n",
              "      <th>0</th>\n",
              "      <th>1</th>\n",
              "      <th>2</th>\n",
              "      <th>3</th>\n",
              "      <th>4</th>\n",
              "      <th>5</th>\n",
              "      <th>6</th>\n",
              "      <th>7</th>\n",
              "      <th>8</th>\n",
              "      <th>9</th>\n",
              "      <th>...</th>\n",
              "      <th>118</th>\n",
              "      <th>119</th>\n",
              "      <th>120</th>\n",
              "      <th>121</th>\n",
              "      <th>122</th>\n",
              "      <th>123</th>\n",
              "      <th>124</th>\n",
              "      <th>125</th>\n",
              "      <th>126</th>\n",
              "      <th>127</th>\n",
              "    </tr>\n",
              "  </thead>\n",
              "  <tbody>\n",
              "    <tr>\n",
              "      <th>0</th>\n",
              "      <td>0.011653</td>\n",
              "      <td>0.013109</td>\n",
              "      <td>0.011269</td>\n",
              "      <td>0.027831</td>\n",
              "      <td>0.002318</td>\n",
              "      <td>-0.018965</td>\n",
              "      <td>-0.061920</td>\n",
              "      <td>-0.094248</td>\n",
              "      <td>-0.079534</td>\n",
              "      <td>-0.070084</td>\n",
              "      <td>...</td>\n",
              "      <td>0.064141</td>\n",
              "      <td>0.064519</td>\n",
              "      <td>0.064129</td>\n",
              "      <td>0.062249</td>\n",
              "      <td>0.056800</td>\n",
              "      <td>0.049120</td>\n",
              "      <td>0.041762</td>\n",
              "      <td>0.032258</td>\n",
              "      <td>0.027008</td>\n",
              "      <td>0.030546</td>\n",
              "    </tr>\n",
              "    <tr>\n",
              "      <th>1</th>\n",
              "      <td>0.009280</td>\n",
              "      <td>0.004930</td>\n",
              "      <td>0.003954</td>\n",
              "      <td>0.009214</td>\n",
              "      <td>0.016156</td>\n",
              "      <td>0.014079</td>\n",
              "      <td>0.013105</td>\n",
              "      <td>0.021247</td>\n",
              "      <td>0.026823</td>\n",
              "      <td>0.031054</td>\n",
              "      <td>...</td>\n",
              "      <td>0.039078</td>\n",
              "      <td>0.039960</td>\n",
              "      <td>0.032358</td>\n",
              "      <td>0.019246</td>\n",
              "      <td>0.017810</td>\n",
              "      <td>0.035285</td>\n",
              "      <td>0.054717</td>\n",
              "      <td>0.058311</td>\n",
              "      <td>0.051000</td>\n",
              "      <td>0.036979</td>\n",
              "    </tr>\n",
              "    <tr>\n",
              "      <th>2</th>\n",
              "      <td>0.005732</td>\n",
              "      <td>0.007066</td>\n",
              "      <td>0.005110</td>\n",
              "      <td>0.002434</td>\n",
              "      <td>0.002024</td>\n",
              "      <td>0.001382</td>\n",
              "      <td>0.001930</td>\n",
              "      <td>0.004875</td>\n",
              "      <td>0.003776</td>\n",
              "      <td>0.002400</td>\n",
              "      <td>...</td>\n",
              "      <td>0.022114</td>\n",
              "      <td>0.026575</td>\n",
              "      <td>0.026929</td>\n",
              "      <td>0.034150</td>\n",
              "      <td>0.032427</td>\n",
              "      <td>0.024935</td>\n",
              "      <td>0.023925</td>\n",
              "      <td>0.020328</td>\n",
              "      <td>0.016454</td>\n",
              "      <td>0.014167</td>\n",
              "    </tr>\n",
              "    <tr>\n",
              "      <th>3</th>\n",
              "      <td>0.000452</td>\n",
              "      <td>0.000604</td>\n",
              "      <td>-0.002485</td>\n",
              "      <td>-0.004562</td>\n",
              "      <td>-0.006002</td>\n",
              "      <td>-0.006382</td>\n",
              "      <td>-0.005276</td>\n",
              "      <td>-0.001489</td>\n",
              "      <td>0.005153</td>\n",
              "      <td>0.004951</td>\n",
              "      <td>...</td>\n",
              "      <td>0.001784</td>\n",
              "      <td>0.000720</td>\n",
              "      <td>-0.005114</td>\n",
              "      <td>-0.006292</td>\n",
              "      <td>-0.008459</td>\n",
              "      <td>-0.014525</td>\n",
              "      <td>-0.012205</td>\n",
              "      <td>-0.011330</td>\n",
              "      <td>-0.009363</td>\n",
              "      <td>0.001263</td>\n",
              "    </tr>\n",
              "    <tr>\n",
              "      <th>4</th>\n",
              "      <td>-0.004362</td>\n",
              "      <td>-0.002765</td>\n",
              "      <td>-0.004905</td>\n",
              "      <td>-0.004682</td>\n",
              "      <td>-0.000267</td>\n",
              "      <td>0.004135</td>\n",
              "      <td>0.005626</td>\n",
              "      <td>0.000933</td>\n",
              "      <td>-0.001542</td>\n",
              "      <td>0.003020</td>\n",
              "      <td>...</td>\n",
              "      <td>0.039331</td>\n",
              "      <td>0.032300</td>\n",
              "      <td>0.016035</td>\n",
              "      <td>0.000662</td>\n",
              "      <td>-0.015730</td>\n",
              "      <td>-0.023228</td>\n",
              "      <td>-0.023526</td>\n",
              "      <td>-0.025179</td>\n",
              "      <td>-0.018610</td>\n",
              "      <td>-0.010833</td>\n",
              "    </tr>\n",
              "    <tr>\n",
              "      <th>...</th>\n",
              "      <td>...</td>\n",
              "      <td>...</td>\n",
              "      <td>...</td>\n",
              "      <td>...</td>\n",
              "      <td>...</td>\n",
              "      <td>...</td>\n",
              "      <td>...</td>\n",
              "      <td>...</td>\n",
              "      <td>...</td>\n",
              "      <td>...</td>\n",
              "      <td>...</td>\n",
              "      <td>...</td>\n",
              "      <td>...</td>\n",
              "      <td>...</td>\n",
              "      <td>...</td>\n",
              "      <td>...</td>\n",
              "      <td>...</td>\n",
              "      <td>...</td>\n",
              "      <td>...</td>\n",
              "      <td>...</td>\n",
              "      <td>...</td>\n",
              "    </tr>\n",
              "    <tr>\n",
              "      <th>2942</th>\n",
              "      <td>0.107662</td>\n",
              "      <td>0.124079</td>\n",
              "      <td>0.183420</td>\n",
              "      <td>0.289247</td>\n",
              "      <td>0.393799</td>\n",
              "      <td>0.446456</td>\n",
              "      <td>0.436931</td>\n",
              "      <td>0.363053</td>\n",
              "      <td>0.279962</td>\n",
              "      <td>0.152701</td>\n",
              "      <td>...</td>\n",
              "      <td>-0.666728</td>\n",
              "      <td>-0.809653</td>\n",
              "      <td>-0.930400</td>\n",
              "      <td>-0.952680</td>\n",
              "      <td>-0.908081</td>\n",
              "      <td>-0.823629</td>\n",
              "      <td>-0.699270</td>\n",
              "      <td>-0.607587</td>\n",
              "      <td>-0.625641</td>\n",
              "      <td>-0.704183</td>\n",
              "    </tr>\n",
              "    <tr>\n",
              "      <th>2943</th>\n",
              "      <td>-0.042392</td>\n",
              "      <td>-0.017244</td>\n",
              "      <td>0.015269</td>\n",
              "      <td>0.064482</td>\n",
              "      <td>0.086802</td>\n",
              "      <td>0.084482</td>\n",
              "      <td>0.101578</td>\n",
              "      <td>0.130484</td>\n",
              "      <td>0.208370</td>\n",
              "      <td>0.310620</td>\n",
              "      <td>...</td>\n",
              "      <td>0.235924</td>\n",
              "      <td>0.021526</td>\n",
              "      <td>-0.372343</td>\n",
              "      <td>-0.637858</td>\n",
              "      <td>-0.511035</td>\n",
              "      <td>-0.283016</td>\n",
              "      <td>-0.085658</td>\n",
              "      <td>0.017245</td>\n",
              "      <td>-0.157011</td>\n",
              "      <td>-0.374259</td>\n",
              "    </tr>\n",
              "    <tr>\n",
              "      <th>2944</th>\n",
              "      <td>-0.147647</td>\n",
              "      <td>-0.169903</td>\n",
              "      <td>-0.168698</td>\n",
              "      <td>-0.138600</td>\n",
              "      <td>-0.144781</td>\n",
              "      <td>-0.072979</td>\n",
              "      <td>-0.040348</td>\n",
              "      <td>-0.023016</td>\n",
              "      <td>-0.025176</td>\n",
              "      <td>-0.074406</td>\n",
              "      <td>...</td>\n",
              "      <td>0.193565</td>\n",
              "      <td>0.199671</td>\n",
              "      <td>0.225366</td>\n",
              "      <td>0.321809</td>\n",
              "      <td>0.456428</td>\n",
              "      <td>0.528796</td>\n",
              "      <td>0.273040</td>\n",
              "      <td>-0.121107</td>\n",
              "      <td>-0.210040</td>\n",
              "      <td>-0.129691</td>\n",
              "    </tr>\n",
              "    <tr>\n",
              "      <th>2945</th>\n",
              "      <td>0.071227</td>\n",
              "      <td>-0.088665</td>\n",
              "      <td>-0.070675</td>\n",
              "      <td>-0.116887</td>\n",
              "      <td>-0.214117</td>\n",
              "      <td>-0.219928</td>\n",
              "      <td>-0.275024</td>\n",
              "      <td>-0.229062</td>\n",
              "      <td>-0.245309</td>\n",
              "      <td>-0.242260</td>\n",
              "      <td>...</td>\n",
              "      <td>0.320620</td>\n",
              "      <td>0.288623</td>\n",
              "      <td>0.320723</td>\n",
              "      <td>0.361976</td>\n",
              "      <td>0.352907</td>\n",
              "      <td>0.305887</td>\n",
              "      <td>0.252091</td>\n",
              "      <td>0.233249</td>\n",
              "      <td>0.300152</td>\n",
              "      <td>0.431867</td>\n",
              "    </tr>\n",
              "    <tr>\n",
              "      <th>2946</th>\n",
              "      <td>-0.193642</td>\n",
              "      <td>-0.064987</td>\n",
              "      <td>-0.097122</td>\n",
              "      <td>-0.055735</td>\n",
              "      <td>0.041101</td>\n",
              "      <td>-0.069489</td>\n",
              "      <td>-0.104058</td>\n",
              "      <td>-0.149939</td>\n",
              "      <td>-0.268934</td>\n",
              "      <td>-0.273483</td>\n",
              "      <td>...</td>\n",
              "      <td>0.388930</td>\n",
              "      <td>0.412142</td>\n",
              "      <td>0.374604</td>\n",
              "      <td>0.300287</td>\n",
              "      <td>0.215723</td>\n",
              "      <td>0.109040</td>\n",
              "      <td>0.006547</td>\n",
              "      <td>-0.051342</td>\n",
              "      <td>-0.078877</td>\n",
              "      <td>-0.046268</td>\n",
              "    </tr>\n",
              "  </tbody>\n",
              "</table>\n",
              "<p>2947 rows × 768 columns</p>\n",
              "</div>\n",
              "    <div class=\"colab-df-buttons\">\n",
              "\n",
              "  <div class=\"colab-df-container\">\n",
              "    <button class=\"colab-df-convert\" onclick=\"convertToInteractive('df-5a49cfea-9325-497b-b7f0-c9c4248bbe6f')\"\n",
              "            title=\"Convert this dataframe to an interactive table.\"\n",
              "            style=\"display:none;\">\n",
              "\n",
              "  <svg xmlns=\"http://www.w3.org/2000/svg\" height=\"24px\" viewBox=\"0 -960 960 960\">\n",
              "    <path d=\"M120-120v-720h720v720H120Zm60-500h600v-160H180v160Zm220 220h160v-160H400v160Zm0 220h160v-160H400v160ZM180-400h160v-160H180v160Zm440 0h160v-160H620v160ZM180-180h160v-160H180v160Zm440 0h160v-160H620v160Z\"/>\n",
              "  </svg>\n",
              "    </button>\n",
              "\n",
              "  <style>\n",
              "    .colab-df-container {\n",
              "      display:flex;\n",
              "      gap: 12px;\n",
              "    }\n",
              "\n",
              "    .colab-df-convert {\n",
              "      background-color: #E8F0FE;\n",
              "      border: none;\n",
              "      border-radius: 50%;\n",
              "      cursor: pointer;\n",
              "      display: none;\n",
              "      fill: #1967D2;\n",
              "      height: 32px;\n",
              "      padding: 0 0 0 0;\n",
              "      width: 32px;\n",
              "    }\n",
              "\n",
              "    .colab-df-convert:hover {\n",
              "      background-color: #E2EBFA;\n",
              "      box-shadow: 0px 1px 2px rgba(60, 64, 67, 0.3), 0px 1px 3px 1px rgba(60, 64, 67, 0.15);\n",
              "      fill: #174EA6;\n",
              "    }\n",
              "\n",
              "    .colab-df-buttons div {\n",
              "      margin-bottom: 4px;\n",
              "    }\n",
              "\n",
              "    [theme=dark] .colab-df-convert {\n",
              "      background-color: #3B4455;\n",
              "      fill: #D2E3FC;\n",
              "    }\n",
              "\n",
              "    [theme=dark] .colab-df-convert:hover {\n",
              "      background-color: #434B5C;\n",
              "      box-shadow: 0px 1px 3px 1px rgba(0, 0, 0, 0.15);\n",
              "      filter: drop-shadow(0px 1px 2px rgba(0, 0, 0, 0.3));\n",
              "      fill: #FFFFFF;\n",
              "    }\n",
              "  </style>\n",
              "\n",
              "    <script>\n",
              "      const buttonEl =\n",
              "        document.querySelector('#df-5a49cfea-9325-497b-b7f0-c9c4248bbe6f button.colab-df-convert');\n",
              "      buttonEl.style.display =\n",
              "        google.colab.kernel.accessAllowed ? 'block' : 'none';\n",
              "\n",
              "      async function convertToInteractive(key) {\n",
              "        const element = document.querySelector('#df-5a49cfea-9325-497b-b7f0-c9c4248bbe6f');\n",
              "        const dataTable =\n",
              "          await google.colab.kernel.invokeFunction('convertToInteractive',\n",
              "                                                    [key], {});\n",
              "        if (!dataTable) return;\n",
              "\n",
              "        const docLinkHtml = 'Like what you see? Visit the ' +\n",
              "          '<a target=\"_blank\" href=https://colab.research.google.com/notebooks/data_table.ipynb>data table notebook</a>'\n",
              "          + ' to learn more about interactive tables.';\n",
              "        element.innerHTML = '';\n",
              "        dataTable['output_type'] = 'display_data';\n",
              "        await google.colab.output.renderOutput(dataTable, element);\n",
              "        const docLink = document.createElement('div');\n",
              "        docLink.innerHTML = docLinkHtml;\n",
              "        element.appendChild(docLink);\n",
              "      }\n",
              "    </script>\n",
              "  </div>\n",
              "\n",
              "\n",
              "<div id=\"df-17c36609-010c-4d08-baa4-85f95d3bf741\">\n",
              "  <button class=\"colab-df-quickchart\" onclick=\"quickchart('df-17c36609-010c-4d08-baa4-85f95d3bf741')\"\n",
              "            title=\"Suggest charts\"\n",
              "            style=\"display:none;\">\n",
              "\n",
              "<svg xmlns=\"http://www.w3.org/2000/svg\" height=\"24px\"viewBox=\"0 0 24 24\"\n",
              "     width=\"24px\">\n",
              "    <g>\n",
              "        <path d=\"M19 3H5c-1.1 0-2 .9-2 2v14c0 1.1.9 2 2 2h14c1.1 0 2-.9 2-2V5c0-1.1-.9-2-2-2zM9 17H7v-7h2v7zm4 0h-2V7h2v10zm4 0h-2v-4h2v4z\"/>\n",
              "    </g>\n",
              "</svg>\n",
              "  </button>\n",
              "\n",
              "<style>\n",
              "  .colab-df-quickchart {\n",
              "      --bg-color: #E8F0FE;\n",
              "      --fill-color: #1967D2;\n",
              "      --hover-bg-color: #E2EBFA;\n",
              "      --hover-fill-color: #174EA6;\n",
              "      --disabled-fill-color: #AAA;\n",
              "      --disabled-bg-color: #DDD;\n",
              "  }\n",
              "\n",
              "  [theme=dark] .colab-df-quickchart {\n",
              "      --bg-color: #3B4455;\n",
              "      --fill-color: #D2E3FC;\n",
              "      --hover-bg-color: #434B5C;\n",
              "      --hover-fill-color: #FFFFFF;\n",
              "      --disabled-bg-color: #3B4455;\n",
              "      --disabled-fill-color: #666;\n",
              "  }\n",
              "\n",
              "  .colab-df-quickchart {\n",
              "    background-color: var(--bg-color);\n",
              "    border: none;\n",
              "    border-radius: 50%;\n",
              "    cursor: pointer;\n",
              "    display: none;\n",
              "    fill: var(--fill-color);\n",
              "    height: 32px;\n",
              "    padding: 0;\n",
              "    width: 32px;\n",
              "  }\n",
              "\n",
              "  .colab-df-quickchart:hover {\n",
              "    background-color: var(--hover-bg-color);\n",
              "    box-shadow: 0 1px 2px rgba(60, 64, 67, 0.3), 0 1px 3px 1px rgba(60, 64, 67, 0.15);\n",
              "    fill: var(--button-hover-fill-color);\n",
              "  }\n",
              "\n",
              "  .colab-df-quickchart-complete:disabled,\n",
              "  .colab-df-quickchart-complete:disabled:hover {\n",
              "    background-color: var(--disabled-bg-color);\n",
              "    fill: var(--disabled-fill-color);\n",
              "    box-shadow: none;\n",
              "  }\n",
              "\n",
              "  .colab-df-spinner {\n",
              "    border: 2px solid var(--fill-color);\n",
              "    border-color: transparent;\n",
              "    border-bottom-color: var(--fill-color);\n",
              "    animation:\n",
              "      spin 1s steps(1) infinite;\n",
              "  }\n",
              "\n",
              "  @keyframes spin {\n",
              "    0% {\n",
              "      border-color: transparent;\n",
              "      border-bottom-color: var(--fill-color);\n",
              "      border-left-color: var(--fill-color);\n",
              "    }\n",
              "    20% {\n",
              "      border-color: transparent;\n",
              "      border-left-color: var(--fill-color);\n",
              "      border-top-color: var(--fill-color);\n",
              "    }\n",
              "    30% {\n",
              "      border-color: transparent;\n",
              "      border-left-color: var(--fill-color);\n",
              "      border-top-color: var(--fill-color);\n",
              "      border-right-color: var(--fill-color);\n",
              "    }\n",
              "    40% {\n",
              "      border-color: transparent;\n",
              "      border-right-color: var(--fill-color);\n",
              "      border-top-color: var(--fill-color);\n",
              "    }\n",
              "    60% {\n",
              "      border-color: transparent;\n",
              "      border-right-color: var(--fill-color);\n",
              "    }\n",
              "    80% {\n",
              "      border-color: transparent;\n",
              "      border-right-color: var(--fill-color);\n",
              "      border-bottom-color: var(--fill-color);\n",
              "    }\n",
              "    90% {\n",
              "      border-color: transparent;\n",
              "      border-bottom-color: var(--fill-color);\n",
              "    }\n",
              "  }\n",
              "</style>\n",
              "\n",
              "  <script>\n",
              "    async function quickchart(key) {\n",
              "      const quickchartButtonEl =\n",
              "        document.querySelector('#' + key + ' button');\n",
              "      quickchartButtonEl.disabled = true;  // To prevent multiple clicks.\n",
              "      quickchartButtonEl.classList.add('colab-df-spinner');\n",
              "      try {\n",
              "        const charts = await google.colab.kernel.invokeFunction(\n",
              "            'suggestCharts', [key], {});\n",
              "      } catch (error) {\n",
              "        console.error('Error during call to suggestCharts:', error);\n",
              "      }\n",
              "      quickchartButtonEl.classList.remove('colab-df-spinner');\n",
              "      quickchartButtonEl.classList.add('colab-df-quickchart-complete');\n",
              "    }\n",
              "    (() => {\n",
              "      let quickchartButtonEl =\n",
              "        document.querySelector('#df-17c36609-010c-4d08-baa4-85f95d3bf741 button');\n",
              "      quickchartButtonEl.style.display =\n",
              "        google.colab.kernel.accessAllowed ? 'block' : 'none';\n",
              "    })();\n",
              "  </script>\n",
              "</div>\n",
              "\n",
              "  <div id=\"id_b34e7323-ba2b-48ad-bf73-dea1f31dd225\">\n",
              "    <style>\n",
              "      .colab-df-generate {\n",
              "        background-color: #E8F0FE;\n",
              "        border: none;\n",
              "        border-radius: 50%;\n",
              "        cursor: pointer;\n",
              "        display: none;\n",
              "        fill: #1967D2;\n",
              "        height: 32px;\n",
              "        padding: 0 0 0 0;\n",
              "        width: 32px;\n",
              "      }\n",
              "\n",
              "      .colab-df-generate:hover {\n",
              "        background-color: #E2EBFA;\n",
              "        box-shadow: 0px 1px 2px rgba(60, 64, 67, 0.3), 0px 1px 3px 1px rgba(60, 64, 67, 0.15);\n",
              "        fill: #174EA6;\n",
              "      }\n",
              "\n",
              "      [theme=dark] .colab-df-generate {\n",
              "        background-color: #3B4455;\n",
              "        fill: #D2E3FC;\n",
              "      }\n",
              "\n",
              "      [theme=dark] .colab-df-generate:hover {\n",
              "        background-color: #434B5C;\n",
              "        box-shadow: 0px 1px 3px 1px rgba(0, 0, 0, 0.15);\n",
              "        filter: drop-shadow(0px 1px 2px rgba(0, 0, 0, 0.3));\n",
              "        fill: #FFFFFF;\n",
              "      }\n",
              "    </style>\n",
              "    <button class=\"colab-df-generate\" onclick=\"generateWithVariable('test_x_concat')\"\n",
              "            title=\"Generate code using this dataframe.\"\n",
              "            style=\"display:none;\">\n",
              "\n",
              "  <svg xmlns=\"http://www.w3.org/2000/svg\" height=\"24px\"viewBox=\"0 0 24 24\"\n",
              "       width=\"24px\">\n",
              "    <path d=\"M7,19H8.4L18.45,9,17,7.55,7,17.6ZM5,21V16.75L18.45,3.32a2,2,0,0,1,2.83,0l1.4,1.43a1.91,1.91,0,0,1,.58,1.4,1.91,1.91,0,0,1-.58,1.4L9.25,21ZM18.45,9,17,7.55Zm-12,3A5.31,5.31,0,0,0,4.9,8.1,5.31,5.31,0,0,0,1,6.5,5.31,5.31,0,0,0,4.9,4.9,5.31,5.31,0,0,0,6.5,1,5.31,5.31,0,0,0,8.1,4.9,5.31,5.31,0,0,0,12,6.5,5.46,5.46,0,0,0,6.5,12Z\"/>\n",
              "  </svg>\n",
              "    </button>\n",
              "    <script>\n",
              "      (() => {\n",
              "      const buttonEl =\n",
              "        document.querySelector('#id_b34e7323-ba2b-48ad-bf73-dea1f31dd225 button.colab-df-generate');\n",
              "      buttonEl.style.display =\n",
              "        google.colab.kernel.accessAllowed ? 'block' : 'none';\n",
              "\n",
              "      buttonEl.onclick = () => {\n",
              "        google.colab.notebook.generateWithVariable('test_x_concat');\n",
              "      }\n",
              "      })();\n",
              "    </script>\n",
              "  </div>\n",
              "\n",
              "    </div>\n",
              "  </div>\n"
            ],
            "text/plain": [
              "           0         1         2         3         4         5         6    \\\n",
              "0     0.011653  0.013109  0.011269  0.027831  0.002318 -0.018965 -0.061920   \n",
              "1     0.009280  0.004930  0.003954  0.009214  0.016156  0.014079  0.013105   \n",
              "2     0.005732  0.007066  0.005110  0.002434  0.002024  0.001382  0.001930   \n",
              "3     0.000452  0.000604 -0.002485 -0.004562 -0.006002 -0.006382 -0.005276   \n",
              "4    -0.004362 -0.002765 -0.004905 -0.004682 -0.000267  0.004135  0.005626   \n",
              "...        ...       ...       ...       ...       ...       ...       ...   \n",
              "2942  0.107662  0.124079  0.183420  0.289247  0.393799  0.446456  0.436931   \n",
              "2943 -0.042392 -0.017244  0.015269  0.064482  0.086802  0.084482  0.101578   \n",
              "2944 -0.147647 -0.169903 -0.168698 -0.138600 -0.144781 -0.072979 -0.040348   \n",
              "2945  0.071227 -0.088665 -0.070675 -0.116887 -0.214117 -0.219928 -0.275024   \n",
              "2946 -0.193642 -0.064987 -0.097122 -0.055735  0.041101 -0.069489 -0.104058   \n",
              "\n",
              "           7         8         9    ...       118       119       120  \\\n",
              "0    -0.094248 -0.079534 -0.070084  ...  0.064141  0.064519  0.064129   \n",
              "1     0.021247  0.026823  0.031054  ...  0.039078  0.039960  0.032358   \n",
              "2     0.004875  0.003776  0.002400  ...  0.022114  0.026575  0.026929   \n",
              "3    -0.001489  0.005153  0.004951  ...  0.001784  0.000720 -0.005114   \n",
              "4     0.000933 -0.001542  0.003020  ...  0.039331  0.032300  0.016035   \n",
              "...        ...       ...       ...  ...       ...       ...       ...   \n",
              "2942  0.363053  0.279962  0.152701  ... -0.666728 -0.809653 -0.930400   \n",
              "2943  0.130484  0.208370  0.310620  ...  0.235924  0.021526 -0.372343   \n",
              "2944 -0.023016 -0.025176 -0.074406  ...  0.193565  0.199671  0.225366   \n",
              "2945 -0.229062 -0.245309 -0.242260  ...  0.320620  0.288623  0.320723   \n",
              "2946 -0.149939 -0.268934 -0.273483  ...  0.388930  0.412142  0.374604   \n",
              "\n",
              "           121       122       123       124       125       126       127  \n",
              "0     0.062249  0.056800  0.049120  0.041762  0.032258  0.027008  0.030546  \n",
              "1     0.019246  0.017810  0.035285  0.054717  0.058311  0.051000  0.036979  \n",
              "2     0.034150  0.032427  0.024935  0.023925  0.020328  0.016454  0.014167  \n",
              "3    -0.006292 -0.008459 -0.014525 -0.012205 -0.011330 -0.009363  0.001263  \n",
              "4     0.000662 -0.015730 -0.023228 -0.023526 -0.025179 -0.018610 -0.010833  \n",
              "...        ...       ...       ...       ...       ...       ...       ...  \n",
              "2942 -0.952680 -0.908081 -0.823629 -0.699270 -0.607587 -0.625641 -0.704183  \n",
              "2943 -0.637858 -0.511035 -0.283016 -0.085658  0.017245 -0.157011 -0.374259  \n",
              "2944  0.321809  0.456428  0.528796  0.273040 -0.121107 -0.210040 -0.129691  \n",
              "2945  0.361976  0.352907  0.305887  0.252091  0.233249  0.300152  0.431867  \n",
              "2946  0.300287  0.215723  0.109040  0.006547 -0.051342 -0.078877 -0.046268  \n",
              "\n",
              "[2947 rows x 768 columns]"
            ]
          },
          "execution_count": 10,
          "metadata": {},
          "output_type": "execute_result"
        }
      ],
      "source": [
        "test_x_concat"
      ]
    },
    {
      "cell_type": "markdown",
      "metadata": {},
      "source": [
        "## 5 - Parte C"
      ]
    },
    {
      "cell_type": "code",
      "execution_count": null,
      "metadata": {
        "colab": {
          "base_uri": "https://localhost:8080/"
        },
        "id": "f6GXHxHiVeBI",
        "outputId": "89e0f6ea-773e-492c-f817-22dbe5ad947a"
      },
      "outputs": [
        {
          "name": "stdout",
          "output_type": "stream",
          "text": [
            "multi_class=ovo, accuracy=31.54%, balanced_accuracy=30.80%, precision=33.40%, recall=30.80%, f1=30.52%\n",
            "multi_class=ovr, accuracy=31.26%, balanced_accuracy=30.55%, precision=32.51%, recall=30.55%, f1=29.18%\n",
            "multi_class=multinomial, accuracy=31.18%, balanced_accuracy=30.43%, precision=32.37%, recall=30.43%, f1=29.03%\n"
          ]
        }
      ],
      "source": [
        "for k in multi_class:\n",
        "  classificador1=0\n",
        "  soma1 = 0\n",
        "  soma2 = 0\n",
        "  soma3 = 0\n",
        "  soma4 = 0\n",
        "  soma5 = 0\n",
        "  if k == \"ovo\":\n",
        "    classificador1 = OneVsOneClassifier(LogisticRegression(random_state=0, solver = 'sag', max_iter = 1000))\n",
        "  else:\n",
        "    classificador1 = LogisticRegression(random_state=0, solver = 'sag', multi_class = k, max_iter = 1000)\n",
        "\n",
        "  for i, (train_index, val_index) in enumerate(kf.split(train_x)):\n",
        "    classificador1.fit(train_x[train_index], train_y[train_index])\n",
        "    y_pred = classificador1.predict(train_x[val_index])\n",
        "    soma1 += (accuracy_score(train_y[val_index], y_pred))*100\n",
        "    soma2 += (balanced_accuracy_score(train_y[val_index], y_pred))*100\n",
        "    soma3 += (precision_score(train_y[val_index], y_pred, average = 'macro'))*100\n",
        "    soma4 += (recall_score(train_y[val_index], y_pred, average = 'macro'))*100\n",
        "    soma5 += (f1_score(train_y[val_index], y_pred, average = 'macro'))*100\n",
        "\n",
        "  print(\"multi_class=%s, accuracy=%.2f%%, balanced_accuracy=%.2f%%, precision=%.2f%%, recall=%.2f%%, f1=%.2f%%\" %\n",
        "   (k, (soma1/5), (soma2/5), (soma3/5), (soma4/5), (soma5/5)))\n",
        "\n",
        "\n"
      ]
    },
    {
      "cell_type": "code",
      "execution_count": null,
      "metadata": {
        "id": "MZeQdIDrwWQ1"
      },
      "outputs": [],
      "source": [
        "classificador1 = OneVsOneClassifier(LogisticRegression(random_state=0, solver = 'sag', max_iter = 1000)).fit(train_x, train_y)"
      ]
    },
    {
      "cell_type": "code",
      "execution_count": null,
      "metadata": {
        "id": "Y7nz97WCxTRd"
      },
      "outputs": [],
      "source": [
        "y_pred = classificador1.predict(test_x_concat)"
      ]
    },
    {
      "cell_type": "code",
      "execution_count": null,
      "metadata": {
        "colab": {
          "base_uri": "https://localhost:8080/",
          "height": 542
        },
        "id": "GIdC6YJ_xsuQ",
        "outputId": "3651ae80-f280-4b5e-fb75-b4450b896b76"
      },
      "outputs": [
        {
          "data": {
            "image/png": "[encoded data removed]",
            "text/plain": [
              "<Figure size 800x600 with 2 Axes>"
            ]
          },
          "metadata": {},
          "output_type": "display_data"
        }
      ],
      "source": [
        "cm = confusion_matrix(test_y, y_pred)\n",
        "plt.figure(figsize=(8, 6))\n",
        "sns.heatmap(cm, annot=True, cmap='Reds', fmt='g', xticklabels=['1', '2', '3', '4', '5', '6'], yticklabels=['1', '2', '3', '4', '5', '6'])\n",
        "plt.xlabel('Predicted')\n",
        "plt.ylabel('True')\n",
        "plt.show()"
      ]
    },
    {
      "cell_type": "code",
      "execution_count": null,
      "metadata": {
        "colab": {
          "base_uri": "https://localhost:8080/"
        },
        "id": "TECP9oOcdosm",
        "outputId": "8dfc187d-28d3-4a6b-c669-d7c476521b4b"
      },
      "outputs": [
        {
          "name": "stdout",
          "output_type": "stream",
          "text": [
            "accuracy=31.25%, balanced_accuracy=30.85%, precision=33.84%, recall=30.85%, f1=31.06%\n"
          ]
        }
      ],
      "source": [
        "print(\"accuracy=%.2f%%, balanced_accuracy=%.2f%%, precision=%.2f%%, recall=%.2f%%, f1=%.2f%%\" %\n",
        "   ((accuracy_score(test_y, y_pred))*100, (balanced_accuracy_score(test_y, y_pred))*100,\n",
        "    (precision_score(test_y, y_pred, average = 'macro'))*100, (recall_score(test_y, y_pred, average = 'macro'))*100,\n",
        "     (f1_score(test_y, y_pred, average = 'macro'))*100))"
      ]
    },
    {
      "cell_type": "code",
      "execution_count": null,
      "metadata": {
        "id": "NClKb0pUeEzJ"
      },
      "outputs": [],
      "source": [
        "k_values = range(1, 31)\n",
        "scores = []"
      ]
    },
    {
      "cell_type": "code",
      "execution_count": null,
      "metadata": {
        "id": "oO26-0KQeEzJ"
      },
      "outputs": [],
      "source": [
        "folds = KFold(n_splits=5, shuffle=False, random_state=None)"
      ]
    },
    {
      "cell_type": "code",
      "execution_count": null,
      "metadata": {
        "id": "gpcVzpgGeEzK"
      },
      "outputs": [],
      "source": [
        "for k in k_values:\n",
        "    knn = KNeighborsClassifier(n_neighbors=k)\n",
        "    pre_scores = cross_val_score(knn, train_x, train_y, cv=folds, scoring='accuracy')\n",
        "    scores.append(pre_scores.mean())"
      ]
    },
    {
      "cell_type": "code",
      "execution_count": null,
      "metadata": {
        "colab": {
          "base_uri": "https://localhost:8080/"
        },
        "id": "8aseHOrKeEzK",
        "outputId": "5e6b3ac7-699b-4936-cd89-16c57ab14b4a"
      },
      "outputs": [
        {
          "data": {
            "text/plain": [
              "1"
            ]
          },
          "execution_count": 20,
          "metadata": {},
          "output_type": "execute_result"
        }
      ],
      "source": [
        "best_k = k_values[np.argmax(scores)]\n",
        "best_score = max(scores)\n",
        "best_k"
      ]
    },
    {
      "cell_type": "code",
      "execution_count": null,
      "metadata": {
        "colab": {
          "base_uri": "https://localhost:8080/",
          "height": 472
        },
        "id": "rYE6gKfAeEzK",
        "outputId": "2d9bb953-43f9-4a3a-9fde-e4499689eb7a"
      },
      "outputs": [
        {
          "data": {
            "image/png": "[encoded data removed]",
            "text/plain": [
              "<Figure size 640x480 with 1 Axes>"
            ]
          },
          "metadata": {},
          "output_type": "display_data"
        }
      ],
      "source": [
        "plt.plot(k_values, scores, marker='o')\n",
        "plt.scatter(best_k, best_score, color='red', s=100, zorder=5)\n",
        "plt.xlabel('k')\n",
        "plt.ylabel('Acurácia')\n",
        "plt.title('Acurácia x k')\n",
        "plt.show()"
      ]
    },
    {
      "cell_type": "code",
      "execution_count": null,
      "metadata": {
        "id": "1iKWJ22AfR3-"
      },
      "outputs": [],
      "source": [
        "knn = KNeighborsClassifier(n_neighbors=1).fit(train_x,train_y)"
      ]
    },
    {
      "cell_type": "code",
      "execution_count": null,
      "metadata": {
        "id": "w4WT_MbCfR4M"
      },
      "outputs": [],
      "source": [
        "y_pred = knn.predict(test_x_concat)"
      ]
    },
    {
      "cell_type": "code",
      "execution_count": null,
      "metadata": {
        "colab": {
          "base_uri": "https://localhost:8080/",
          "height": 542
        },
        "id": "wPdVY-H3fR4M",
        "outputId": "631c0129-e5ea-4175-fe35-aca7c255159b"
      },
      "outputs": [
        {
          "data": {
            "image/png": "[encoded data removed]",
            "text/plain": [
              "<Figure size 800x600 with 2 Axes>"
            ]
          },
          "metadata": {},
          "output_type": "display_data"
        }
      ],
      "source": [
        "cm = confusion_matrix(test_y, y_pred)\n",
        "plt.figure(figsize=(8, 6))\n",
        "sns.heatmap(cm, annot=True, cmap='Reds', fmt='g', xticklabels=['1', '2', '3', '4', '5', '6'], yticklabels=['1', '2', '3', '4', '5', '6'])\n",
        "plt.xlabel('Predicted')\n",
        "plt.ylabel('True')\n",
        "plt.show()"
      ]
    },
    {
      "cell_type": "code",
      "execution_count": null,
      "metadata": {
        "colab": {
          "base_uri": "https://localhost:8080/"
        },
        "id": "ulA_vyB0fR4M",
        "outputId": "ec96e450-a9ec-4b28-f134-9d4377c84d9b"
      },
      "outputs": [
        {
          "name": "stdout",
          "output_type": "stream",
          "text": [
            "accuracy=63.22%, balanced_accuracy=62.29%, precision=73.81%, recall=62.29%, f1=63.20%\n"
          ]
        }
      ],
      "source": [
        "print(\"accuracy=%.2f%%, balanced_accuracy=%.2f%%, precision=%.2f%%, recall=%.2f%%, f1=%.2f%%\" %\n",
        "   ((accuracy_score(test_y, y_pred))*100, (balanced_accuracy_score(test_y, y_pred))*100,\n",
        "    (precision_score(test_y, y_pred, average = 'macro'))*100, (recall_score(test_y, y_pred, average = 'macro'))*100,\n",
        "     (f1_score(test_y, y_pred, average = 'macro'))*100))"
      ]
    }
  ],
  "metadata": {
    "colab": {
      "provenance": []
    },
    "kernelspec": {
      "display_name": "Python 3",
      "name": "python3"
    },
    "language_info": {
      "name": "python"
    }
  },
  "nbformat": 4,
  "nbformat_minor": 0
}
